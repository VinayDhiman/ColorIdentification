{
 "cells": [
  {
   "cell_type": "markdown",
   "metadata": {},
   "source": [
    "# THE SPARKS FOUNDATION \n",
    "\n",
    "## TASK 2\n",
    "\n",
    "## COLOR IDENTIFICATION IN IMAGES\n",
    "\n",
    "## NAME - VINAY DHIMAN"
   ]
  },
  {
   "cell_type": "code",
   "execution_count": 2,
   "metadata": {},
   "outputs": [],
   "source": [
    "# import libraries\n",
    "import cv2\n",
    "import pandas as pd"
   ]
  },
  {
   "cell_type": "code",
   "execution_count": 3,
   "metadata": {},
   "outputs": [],
   "source": [
    "#Add input image and input color csv file\n",
    "\n",
    "img = cv2.imread(\"garden.jpg\")\n",
    "index = ['color','color_name','hex','R','G','B']\n",
    "df = pd.read_csv('colors.csv', names=index,header = None)"
   ]
  },
  {
   "cell_type": "code",
   "execution_count": 4,
   "metadata": {},
   "outputs": [],
   "source": [
    "#resize the input image\n",
    "img = cv2.resize(img,(700,500))\n",
    "\n",
    "#Initializing the variables\n",
    "clicked = False\n",
    "r = g = b = xpos = ypos = 0"
   ]
  },
  {
   "cell_type": "code",
   "execution_count": 5,
   "metadata": {},
   "outputs": [],
   "source": [
    "#make a function to get the color name\n",
    "def get_color(R,G,B):\n",
    "    minimum = 1000\n",
    "    for i in range(len(df)):\n",
    "        d = abs(R - int(df.loc[i,'R'])) + abs(G - int(df.loc[i,'G'])) + abs(B - int(df.loc[i,'B']))\n",
    "        if d <= minimum:\n",
    "            minimum = d\n",
    "            cname = df.loc[i, 'color_name']\n",
    "\n",
    "    return cname"
   ]
  },
  {
   "cell_type": "code",
   "execution_count": 6,
   "metadata": {},
   "outputs": [],
   "source": [
    "def draw_function(event, x, y, flags, params):\n",
    "    if event == cv2.EVENT_LBUTTONDBLCLK:\n",
    "        global b, g, r, xpos, ypos, clicked\n",
    "        clicked = True\n",
    "        xpos = x\n",
    "        ypos = y\n",
    "        b,g,r = img[y,x]\n",
    "        b = int(b)\n",
    "        g = int(g)\n",
    "        r = int(r)\n",
    "\n",
    "\n",
    "cv2.namedWindow('ColorDectection')\n",
    "cv2.setMouseCallback('ColorDectection', draw_function)\n",
    "\n",
    "while True:\n",
    "    cv2.imshow('ColorDectection', img)\n",
    "    \n",
    "    if clicked:\n",
    "         cv2.rectangle(img, (20,20), (700,100), (b,g,r), -1)\n",
    "            \n",
    "#make a string by using get_color function  \n",
    "         text = get_color(r,g,b) + ' B=' + str(b) + ' G=' + str(g) + ' R=' + str(r)\n",
    "        \n",
    "#put text on image by using text string anf putText function\n",
    "         cv2.putText(img, text, (40,50), 3,0.8, (255,255,255),2,cv2.LINE_AA)\n",
    "\n",
    "    if cv2.waitKey(20) & 0XFF == ord('s'):\n",
    "        break\n",
    "\n",
    "cv2.destroyAllWindows()        "
   ]
  },
  {
   "cell_type": "code",
   "execution_count": null,
   "metadata": {},
   "outputs": [],
   "source": []
  }
 ],
 "metadata": {
  "kernelspec": {
   "display_name": "Python 3",
   "language": "python",
   "name": "python3"
  },
  "language_info": {
   "codemirror_mode": {
    "name": "ipython",
    "version": 3
   },
   "file_extension": ".py",
   "mimetype": "text/x-python",
   "name": "python",
   "nbconvert_exporter": "python",
   "pygments_lexer": "ipython3",
   "version": "3.8.3"
  }
 },
 "nbformat": 4,
 "nbformat_minor": 4
}
